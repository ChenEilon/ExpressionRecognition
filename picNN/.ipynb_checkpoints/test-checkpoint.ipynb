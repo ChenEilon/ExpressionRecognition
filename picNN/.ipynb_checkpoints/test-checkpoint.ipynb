{
 "cells": [
  {
   "cell_type": "code",
   "execution_count": 1,
   "metadata": {
    "scrolled": true
   },
   "outputs": [
    {
     "name": "stderr",
     "output_type": "stream",
     "text": [
      "C:\\Users\\Santos\\Anaconda3\\envs\\dl\\lib\\site-packages\\h5py\\__init__.py:36: FutureWarning: Conversion of the second argument of issubdtype from `float` to `np.floating` is deprecated. In future, it will be treated as `np.float64 == np.dtype(float).type`.\n",
      "  from ._conv import register_converters as _register_converters\n",
      "Using TensorFlow backend.\n"
     ]
    },
    {
     "name": "stdout",
     "output_type": "stream",
     "text": [
      "WARNING:tensorflow:From C:\\Users\\Santos\\Anaconda3\\envs\\dl\\lib\\site-packages\\tensorflow\\contrib\\learn\\python\\learn\\datasets\\base.py:198: retry (from tensorflow.contrib.learn.python.learn.datasets.base) is deprecated and will be removed in a future version.\n",
      "Instructions for updating:\n",
      "Use the retry module or similar alternatives.\n"
     ]
    }
   ],
   "source": [
    "import os\n",
    "import numpy as np\n",
    "import pandas as pd\n",
    "from keras.models import load_model\n",
    "from skimage.transform import resize\n",
    "from skimage.io import imread"
   ]
  },
  {
   "cell_type": "code",
   "execution_count": 2,
   "metadata": {},
   "outputs": [],
   "source": [
    "def data_preprocess(img_dir, csv_dir, file_prefix=\"affectnet_landmarks\", max_samples=100):\n",
    "    print(\"Start preprocess\")\n",
    "    filenames = [entry.name for entry in os.scandir(csv_dir) if\n",
    "                 entry.name.lower().endswith(\".csv\") and entry.name.startswith(file_prefix)]\n",
    "    x = []\n",
    "    y = []\n",
    "    for f in filenames:\n",
    "        print(\"Reading file {0}\".format(f))\n",
    "        data_df = pd.read_csv(os.path.join(csv_dir, f))\n",
    "        for i in range(2000, min(data_df.shape[0], 2000 + max_samples)):\n",
    "            f = os.path.join(img_dir, str(data_df.loc[i, \"subDirectory\"]), str(data_df.loc[i, \"filePath\"]))\n",
    "            if not os.path.isfile(f):\n",
    "                continue\n",
    "            img = imread(f, as_grey=True)\n",
    "            img = resize(img, (32, 32))\n",
    "            x.append(img)\n",
    "            y.append(data_df.loc[i, \"expression\"])\n",
    "    # x = np.asarray(x, dtype=np.float32) / 255.0\n",
    "    x = np.expand_dims(x, axis=-1)\n",
    "    y = np.asarray(y, dtype=np.int32)\n",
    "    print(\"Saving data\")\n",
    "    np.save(os.path.join(\"x_test.npy\"), x)\n",
    "    np.save(os.path.join(\"y_test.npy\"), y)\n",
    "    print(\"Done preprocess\")"
   ]
  },
  {
   "cell_type": "code",
   "execution_count": 3,
   "metadata": {},
   "outputs": [
    {
     "name": "stdout",
     "output_type": "stream",
     "text": [
      "WARNING:tensorflow:From C:\\Users\\Santos\\Anaconda3\\envs\\dl\\lib\\site-packages\\keras\\backend\\tensorflow_backend.py:1210: calling reduce_prod (from tensorflow.python.ops.math_ops) with keep_dims is deprecated and will be removed in a future version.\n",
      "Instructions for updating:\n",
      "keep_dims is deprecated, use keepdims instead\n",
      "WARNING:tensorflow:From C:\\Users\\Santos\\Anaconda3\\envs\\dl\\lib\\site-packages\\keras\\backend\\tensorflow_backend.py:2745: calling reduce_sum (from tensorflow.python.ops.math_ops) with keep_dims is deprecated and will be removed in a future version.\n",
      "Instructions for updating:\n",
      "keep_dims is deprecated, use keepdims instead\n",
      "WARNING:tensorflow:From C:\\Users\\Santos\\Anaconda3\\envs\\dl\\lib\\site-packages\\keras\\backend\\tensorflow_backend.py:1299: calling reduce_mean (from tensorflow.python.ops.math_ops) with keep_dims is deprecated and will be removed in a future version.\n",
      "Instructions for updating:\n",
      "keep_dims is deprecated, use keepdims instead\n"
     ]
    }
   ],
   "source": [
    "model = load_model(\"model.h5\")\n",
    "model.load_weights(\"weights.h5\")"
   ]
  },
  {
   "cell_type": "code",
   "execution_count": 4,
   "metadata": {},
   "outputs": [
    {
     "name": "stdout",
     "output_type": "stream",
     "text": [
      "Start preprocess\n",
      "Reading file affectnet_landmarks_1.csv\n"
     ]
    },
    {
     "name": "stderr",
     "output_type": "stream",
     "text": [
      "C:\\Users\\Santos\\Anaconda3\\envs\\dl\\lib\\site-packages\\skimage\\transform\\_warps.py:84: UserWarning: The default mode, 'constant', will be changed to 'reflect' in skimage 0.15.\n",
      "  warn(\"The default mode, 'constant', will be changed to 'reflect' in \"\n"
     ]
    },
    {
     "name": "stdout",
     "output_type": "stream",
     "text": [
      "Reading file affectnet_landmarks_2.csv\n",
      "Reading file affectnet_landmarks_3.csv\n",
      "Reading file affectnet_landmarks_5.csv\n",
      "Reading file affectnet_landmarks_6.csv\n",
      "Saving data\n",
      "Done preprocess\n"
     ]
    }
   ],
   "source": [
    "# data_preprocess(r\"E:\\final_project_ee\\Manually Annotated\\Manually_Annotated_Images\",\n",
    "#                 r\"C:\\Users\\Santos\\Documents\\GitHub\\ExpressionRecognition\\Affectnet\")\n",
    "x = np.load(\"x_test.npy\")\n",
    "y = np.load(\"y_test.npy\")"
   ]
  },
  {
   "cell_type": "code",
   "execution_count": 5,
   "metadata": {},
   "outputs": [],
   "source": [
    "res = model.predict(x)\n",
    "res = np.asarray([np.argmax(res[i]) for i in range(len(res))])"
   ]
  },
  {
   "cell_type": "code",
   "execution_count": 6,
   "metadata": {},
   "outputs": [
    {
     "data": {
      "text/plain": [
       "0.534"
      ]
     },
     "execution_count": 6,
     "metadata": {},
     "output_type": "execute_result"
    }
   ],
   "source": [
    "sum(res == y) / len(y)"
   ]
  }
 ],
 "metadata": {
  "kernelspec": {
   "display_name": "Python 3",
   "language": "python",
   "name": "python3"
  },
  "language_info": {
   "codemirror_mode": {
    "name": "ipython",
    "version": 3
   },
   "file_extension": ".py",
   "mimetype": "text/x-python",
   "name": "python",
   "nbconvert_exporter": "python",
   "pygments_lexer": "ipython3",
   "version": "3.5.5"
  }
 },
 "nbformat": 4,
 "nbformat_minor": 2
}
