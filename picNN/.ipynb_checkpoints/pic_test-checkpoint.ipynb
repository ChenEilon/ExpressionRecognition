{
 "cells": [
  {
   "cell_type": "code",
   "execution_count": 1,
   "metadata": {
    "scrolled": true
   },
   "outputs": [
    {
     "name": "stderr",
     "output_type": "stream",
     "text": [
      "C:\\Users\\Santos\\Anaconda3\\envs\\dl\\lib\\site-packages\\h5py\\__init__.py:36: FutureWarning: Conversion of the second argument of issubdtype from `float` to `np.floating` is deprecated. In future, it will be treated as `np.float64 == np.dtype(float).type`.\n",
      "  from ._conv import register_converters as _register_converters\n",
      "Using TensorFlow backend.\n"
     ]
    },
    {
     "name": "stdout",
     "output_type": "stream",
     "text": [
      "WARNING:tensorflow:From C:\\Users\\Santos\\Anaconda3\\envs\\dl\\lib\\site-packages\\tensorflow\\contrib\\learn\\python\\learn\\datasets\\base.py:198: retry (from tensorflow.contrib.learn.python.learn.datasets.base) is deprecated and will be removed in a future version.\n",
      "Instructions for updating:\n",
      "Use the retry module or similar alternatives.\n"
     ]
    }
   ],
   "source": [
    "import os\n",
    "import numpy as np\n",
    "import pandas as pd\n",
    "from keras.models import load_model\n",
    "from skimage.transform import resize\n",
    "from skimage.io import imread\n",
    "from PIL import Image"
   ]
  },
  {
   "cell_type": "code",
   "execution_count": 30,
   "metadata": {},
   "outputs": [],
   "source": [
    "def data_preprocess(img_dir, csv_dir, file_prefix=\"affectnet_landmarks\", max_samples=1000):\n",
    "    print(\"Start preprocess\")\n",
    "    filenames = [entry.name for entry in os.scandir(csv_dir) if\n",
    "                 entry.name.lower().endswith(\".csv\") and entry.name.startswith(file_prefix)]\n",
    "    x = []\n",
    "    y = []\n",
    "    for f in filenames:\n",
    "        print(\"Reading file {0}\".format(f))\n",
    "        data_df = pd.read_csv(os.path.join(csv_dir, f))\n",
    "        for i in range(5000, min(data_df.shape[0], 5000 + max_samples)):\n",
    "            f = os.path.join(img_dir, str(data_df.loc[i, \"subDirectory\"]), str(data_df.loc[i, \"filePath\"]))\n",
    "            if not os.path.isfile(f):\n",
    "                continue\n",
    "            img = imread(f, as_grey=True)\n",
    "            img = resize(img, (32, 32))\n",
    "            x.append(img)\n",
    "            y.append(data_df.loc[i, \"expression\"])\n",
    "    # x = np.asarray(x, dtype=np.float32) / 255.0\n",
    "    x = np.expand_dims(x, axis=-1)\n",
    "    y = np.asarray(y, dtype=np.int32)\n",
    "    print(\"Saving data\")\n",
    "    np.save(os.path.join(\"x_test.npy\"), x)\n",
    "    np.save(os.path.join(\"y_test.npy\"), y)\n",
    "    print(\"Done preprocess\")"
   ]
  },
  {
   "cell_type": "code",
   "execution_count": 31,
   "metadata": {},
   "outputs": [],
   "source": [
    "model = load_model(\"model.h5\")\n",
    "model.load_weights(\"weights.h5\")"
   ]
  },
  {
   "cell_type": "code",
   "execution_count": 32,
   "metadata": {},
   "outputs": [],
   "source": [
    "classes = [1, 2, 3, 6]\n",
    "classes = np.asarray(classes)\n",
    "num_classes = max(classes) + 1"
   ]
  },
  {
   "cell_type": "code",
   "execution_count": 33,
   "metadata": {},
   "outputs": [],
   "source": [
    "# data_preprocess(r\"E:\\final_project_ee\\Manually Annotated\\Manually_Annotated_Images\",\n",
    "#                 r\"C:\\Users\\Santos\\Documents\\GitHub\\ExpressionRecognition\\Affectnet\")\n",
    "x = np.load(\"x_test.npy\")\n",
    "y = np.load(\"y_test.npy\")"
   ]
  },
  {
   "cell_type": "code",
   "execution_count": 34,
   "metadata": {},
   "outputs": [],
   "source": [
    "indices = np.where(sum(y == c for c in classes))\n",
    "x = x[indices]\n",
    "y = y[indices]"
   ]
  },
  {
   "cell_type": "code",
   "execution_count": 35,
   "metadata": {},
   "outputs": [],
   "source": [
    "res = model.predict(x)"
   ]
  },
  {
   "cell_type": "code",
   "execution_count": 36,
   "metadata": {},
   "outputs": [
    {
     "data": {
      "text/plain": [
       "0.66425"
      ]
     },
     "execution_count": 36,
     "metadata": {},
     "output_type": "execute_result"
    }
   ],
   "source": [
    "y_res = np.asarray([classes[np.argmax(v)] for v in res])\n",
    "sum(y_res == y) / len(y)"
   ]
  },
  {
   "cell_type": "code",
   "execution_count": 37,
   "metadata": {},
   "outputs": [
    {
     "data": {
      "text/plain": [
       "array([[  0,   0,   0,   0,   0,   0,   0],\n",
       "       [  0, 793,  75,  83,   0,   0,  49],\n",
       "       [  0,  43, 552, 162,   0,   0, 243],\n",
       "       [  0,  51, 162, 670,   0,   0, 117],\n",
       "       [  0,   0,   0,   0,   0,   0,   0],\n",
       "       [  0,   0,   0,   0,   0,   0,   0],\n",
       "       [  0,  38, 190, 130,   0,   0, 642]])"
      ]
     },
     "execution_count": 37,
     "metadata": {},
     "output_type": "execute_result"
    }
   ],
   "source": [
    "res_mat = [[0 for i in range(num_classes)] for j in range(num_classes)]\n",
    "for i in range(len(y)):\n",
    "    res_mat[y[i]][y_res[i]] += 1\n",
    "res_mat = np.asarray(res_mat)\n",
    "res_mat"
   ]
  },
  {
   "cell_type": "code",
   "execution_count": 38,
   "metadata": {},
   "outputs": [
    {
     "data": {
      "text/plain": [
       "0.879"
      ]
     },
     "execution_count": 38,
     "metadata": {},
     "output_type": "execute_result"
    }
   ],
   "source": [
    "y2_res = np.asarray([classes[np.argsort(v)[-2:]] for v in res])\n",
    "sum(y[i] in y2_res[i] for i in range(len(y))) / len(y)"
   ]
  },
  {
   "cell_type": "code",
   "execution_count": 39,
   "metadata": {
    "scrolled": false
   },
   "outputs": [
    {
     "data": {
      "text/plain": [
       "array([[   0,    0,    0,    0,    0,    0,    0],\n",
       "       [   0,    0,  289,  670,    0,    0,  227],\n",
       "       [   0,  289,    0,  966,    0,    0, 1399],\n",
       "       [   0,  670,  966,    0,    0,    0,  449],\n",
       "       [   0,    0,    0,    0,    0,    0,    0],\n",
       "       [   0,    0,    0,    0,    0,    0,    0],\n",
       "       [   0,  227, 1399,  449,    0,    0,    0]])"
      ]
     },
     "execution_count": 39,
     "metadata": {},
     "output_type": "execute_result"
    }
   ],
   "source": [
    "l = [[0 for i in range(num_classes)] for j in range(num_classes)]\n",
    "for pair in y2_res:\n",
    "    l[pair[0]][pair[1]] += 1\n",
    "    l[pair[1]][pair[0]] += 1\n",
    "l = np.asarray(l)\n",
    "l"
   ]
  },
  {
   "cell_type": "code",
   "execution_count": null,
   "metadata": {},
   "outputs": [],
   "source": [
    "mis_indices = np.where(y != y_res)\n",
    "mis_x = x[mis_indices]\n",
    "mis_y = y[mis_indices]\n",
    "mis_y_res = y_res[mis_indices]\n",
    "mis_y2_res = y2_res[mis_indices]"
   ]
  },
  {
   "cell_type": "code",
   "execution_count": null,
   "metadata": {},
   "outputs": [],
   "source": [
    "l = [[0 for i in range(num_classes)] for j in range(num_classes)]\n",
    "for pair in mis_y2_res:\n",
    "    l[pair[0]][pair[1]] += 1\n",
    "    l[pair[1]][pair[0]] += 1\n",
    "l = np.asarray(l)\n",
    "l"
   ]
  },
  {
   "cell_type": "code",
   "execution_count": 41,
   "metadata": {},
   "outputs": [],
   "source": [
    "# data = (mis_x[2].reshape((32, 32))*255).astype(np.int32)\n",
    "# img = Image.fromarray(data, 'I')\n",
    "# img.show()"
   ]
  }
 ],
 "metadata": {
  "kernelspec": {
   "display_name": "Python 3",
   "language": "python",
   "name": "python3"
  },
  "language_info": {
   "codemirror_mode": {
    "name": "ipython",
    "version": 3
   },
   "file_extension": ".py",
   "mimetype": "text/x-python",
   "name": "python",
   "nbconvert_exporter": "python",
   "pygments_lexer": "ipython3",
   "version": "3.5.5"
  }
 },
 "nbformat": 4,
 "nbformat_minor": 2
}
